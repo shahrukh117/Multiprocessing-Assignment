{
 "cells": [
  {
   "cell_type": "markdown",
   "id": "d3acd36b-80e1-4d54-8012-576de9378f52",
   "metadata": {},
   "source": [
    "### Q1. What is multiprocessing in python? Why is it useful?"
   ]
  },
  {
   "cell_type": "markdown",
   "id": "69544a41-0663-4d2e-840f-8630fbf93b76",
   "metadata": {},
   "source": [
    "Multiprocessing refers to running multiple processes simultaneously, which can be incredibly useful for speeding up your code and handling large datasets and tasks. For example, running an operation in parallel can divide a job into several smaller parts that can be processed simultaneously."
   ]
  },
  {
   "cell_type": "markdown",
   "id": "06f1a71f-f61e-46e8-8c07-83fb620067ca",
   "metadata": {},
   "source": [
    "### Q2. What are the differences between multiprocessing and multithreading?"
   ]
  },
  {
   "cell_type": "markdown",
   "id": "fc966d68-0292-4a5d-8e1a-b2169e923145",
   "metadata": {},
   "source": [
    "### Multiprocessing"
   ]
  },
  {
   "cell_type": "markdown",
   "id": "85021f86-cfc0-4fe9-a3b4-80c98bf9567e",
   "metadata": {},
   "source": [
    "1.\tIn Multiprocessing, CPUs are added for increasing computing power.\n",
    "\n",
    "2.\tIn Multiprocessing, Many processes are executed simultaneously.\n",
    "\n",
    "3.\tMultiprocessing are classified into Symmetric and Asymmetric.\n",
    "\n",
    "4.\tIn Multiprocessing, Process creation is a time-consuming process.\n",
    "\n",
    "5.\tIn Multiprocessing, every process owned a separate address space."
   ]
  },
  {
   "cell_type": "markdown",
   "id": "478838a0-ff4b-4979-828e-b20047fe6968",
   "metadata": {},
   "source": [
    "### Multithreading"
   ]
  },
  {
   "cell_type": "markdown",
   "id": "bcbd73c8-fcdd-4b41-b928-5933b86ab774",
   "metadata": {},
   "source": [
    "1.While In Multithreading, many threads are created of a single process for increasing computing power.\n",
    "\n",
    "2.While in multithreading, many threads of a process are executed simultaneously.\n",
    "\n",
    "3.While Multithreading is not classified in any categories.\n",
    "\n",
    "4.While in Multithreading, process creation is according to economical.\n",
    "\n",
    "5.While in Multithreading, a common address space is shared by all the threads."
   ]
  },
  {
   "cell_type": "markdown",
   "id": "e53d1c2b-8fbf-4db9-94d1-0ab1475ab468",
   "metadata": {},
   "source": [
    "### Q3. Write a python code to create a process using the multiprocessing module."
   ]
  },
  {
   "cell_type": "code",
   "execution_count": 21,
   "id": "c7fe1262-d312-42df-8159-7a873cabadac",
   "metadata": {},
   "outputs": [
    {
     "name": "stdout",
     "output_type": "stream",
     "text": [
      "The Square is: 25\n",
      "The Cube is: 125\n",
      "Both processes are finished\n"
     ]
    }
   ],
   "source": [
    "# Python multiprocessing example  \n",
    "# importing the multiprocessing module  \n",
    "  \n",
    "import multiprocessing  \n",
    "def cube(n):  \n",
    "   # This function will print the cube of the given number  \n",
    "   print(\"The Cube is: {}\".format(n * n * n))\n",
    "    \n",
    "def square(n):\n",
    "    \n",
    "    # This function will print the square of the given number  \n",
    "    print(\"The Square is: {}\".format(n * n))\n",
    "    \n",
    "if __name__ == \"__main__\":\n",
    "    \n",
    "   # creating two processes  \n",
    "    process1 = multiprocessing.Process(target= square, args=(5, ))  \n",
    "    process2 = multiprocessing.Process(target= cube, args=(5, ))  \n",
    "  \n",
    "   # Here we start the process 1  \n",
    "    process1.start()  \n",
    "   # Here we start process 2  \n",
    "    process2.start()  \n",
    "  \n",
    "   # The join() method is used to wait for process 1 to complete  \n",
    "    process1.join()  \n",
    "   # It is used to wait for process 1 to complete  \n",
    "    process2.join()  \n",
    "  \n",
    "   # Print if both processes are completed  \n",
    "    print(\"Both processes are finished\")  "
   ]
  },
  {
   "cell_type": "markdown",
   "id": "00842f74-fe37-42f2-a2e6-db61f141e747",
   "metadata": {},
   "source": [
    "### Q4. What is a multiprocessing pool in python? Why is it used?"
   ]
  },
  {
   "cell_type": "markdown",
   "id": "fb45ebf5-0e7c-4339-916a-7d77580962fd",
   "metadata": {},
   "source": [
    "Python multiprocessing Pool can be used for parallel execution of a function across multiple input values, distributing the input data across processes (data parallelism)"
   ]
  },
  {
   "cell_type": "markdown",
   "id": "67b70733-92ab-4d1c-9c27-3055dc8c276e",
   "metadata": {},
   "source": [
    "The main advantage of using a multiprocessing.Pool is that it allows you to take advantage of multiple CPU cores or processors, effectively speeding up the processing of a large number of tasks or data items.\n",
    "\n",
    "Let's go through an example to illustrate how to use multiprocessing.Pool"
   ]
  },
  {
   "cell_type": "code",
   "execution_count": 22,
   "id": "0d3d8e63-1708-42da-9e36-35f30225113d",
   "metadata": {},
   "outputs": [
    {
     "name": "stdout",
     "output_type": "stream",
     "text": [
      "Input Data: [1, 2, 3, 4, 5, 6, 7, 8, 9, 10]\n",
      "Results: [1, 4, 9, 16, 25, 36, 49, 64, 81, 100]\n"
     ]
    }
   ],
   "source": [
    "import multiprocessing\n",
    "\n",
    "# Function to be executed in parallel\n",
    "def square_number(x):\n",
    "    return x ** 2\n",
    "\n",
    "if __name__ == \"__main__\":\n",
    "    # Input data (list of numbers)\n",
    "    input_data = [1, 2, 3, 4, 5, 6, 7, 8, 9, 10]\n",
    "\n",
    "    # Create a multiprocessing pool with 4 worker processes (you can adjust the number as needed)\n",
    "    with multiprocessing.Pool(processes=4) as pool:\n",
    "        # Use the map function to apply the square_number function to each element of input_data\n",
    "        results = pool.map(square_number, input_data)\n",
    "\n",
    "    # Print the results\n",
    "    print(\"Input Data:\", input_data)\n",
    "    print(\"Results:\", results)\n"
   ]
  },
  {
   "cell_type": "markdown",
   "id": "a421da4a-e34d-4821-a73e-fd2144770e9f",
   "metadata": {},
   "source": [
    "In this example, the multiprocessing.Pool is created with 4 worker processes using processes=4. The pool.map(square_number, input_data) line applies the square_number function to each element of input_data using the pool's worker processes. The map function blocks until all the tasks are completed, and the results are returned in the same order as the input data.\n",
    "\n",
    "By using multiprocessing.Pool, you can distribute the computation across multiple processes, taking advantage of multiple CPU cores and speeding up the overall processing, especially when dealing with large datasets or time-consuming tasks. It's a handy tool for parallelizing tasks that can be performed independently"
   ]
  },
  {
   "cell_type": "markdown",
   "id": "59412b58-268c-401f-bd84-a1f3af31d75a",
   "metadata": {},
   "source": [
    "### Q5. How can we create a pool of worker processes in python using the multiprocessing module?"
   ]
  },
  {
   "cell_type": "markdown",
   "id": "1e9d14de-1b39-49b0-9410-4c3c60173fb0",
   "metadata": {},
   "source": [
    "To create a pool of worker processes in Python using the multiprocessing module, you can make use of the multiprocessing.Pool class. The Pool class provides a simple interface to create a specified number of worker processes and manage their execution."
   ]
  },
  {
   "cell_type": "code",
   "execution_count": 23,
   "id": "132051be-759b-4b13-80be-c83e2253c202",
   "metadata": {},
   "outputs": [],
   "source": [
    "# Import the multiprocessing module\n",
    "import multiprocessing"
   ]
  },
  {
   "cell_type": "markdown",
   "id": "a7b07996-fccc-4780-b567-40cbc4286e94",
   "metadata": {},
   "source": [
    "Define the function that you want to execute in parallel. This function will be applied to the input data using the worker processes."
   ]
  },
  {
   "cell_type": "code",
   "execution_count": 24,
   "id": "3c527602-e1a8-4996-8b99-fc2a2266dbd6",
   "metadata": {},
   "outputs": [],
   "source": [
    "# Example function to be executed in parallel\n",
    "def your_function(arg):\n",
    "    # Your computation or task goes here\n",
    "    # For example:\n",
    "    return arg * 2\n"
   ]
  },
  {
   "cell_type": "code",
   "execution_count": 26,
   "id": "aea71ac3-21b2-4774-801c-697e3c22a840",
   "metadata": {},
   "outputs": [
    {
     "name": "stdout",
     "output_type": "stream",
     "text": [
      "Input Data: [1, 2, 3, 4, 5, 6, 7, 8, 9, 10]\n",
      "Results: [2, 4, 6, 8, 10, 12, 14, 16, 18, 20]\n"
     ]
    }
   ],
   "source": [
    "if __name__ == \"__main__\":\n",
    "    # Input data (list of arguments)\n",
    "    input_data = [1, 2, 3, 4, 5, 6, 7, 8, 9, 10]\n",
    "\n",
    "    # Create a multiprocessing pool with 4 worker processes\n",
    "    with multiprocessing.Pool(processes=4) as pool:\n",
    "        # Use the map function to apply your_function to each element of input_data\n",
    "        results = pool.map(your_function, input_data)\n",
    "\n",
    "    # Print the results\n",
    "    print(\"Input Data:\", input_data)\n",
    "    print(\"Results:\", results)\n"
   ]
  },
  {
   "cell_type": "markdown",
   "id": "0bc678e9-34e3-4337-aa5d-387f83d25773",
   "metadata": {},
   "source": [
    "### Q6. Write a python program to create 4 processes, each process should print a different number using the multiprocessing module in python."
   ]
  },
  {
   "cell_type": "code",
   "execution_count": 66,
   "id": "8a8c4bd1-b1c8-4ab8-bb4a-a308944d9cbc",
   "metadata": {},
   "outputs": [
    {
     "name": "stdout",
     "output_type": "stream",
     "text": [
      "Square of 1: 1\n",
      "Square of 2: 4\n",
      "Square of 3: 9\n",
      "Square of 4: 16\n",
      "All processes have finished.\n"
     ]
    }
   ],
   "source": [
    "import multiprocessing\n",
    "\n",
    "def print_number(number):\n",
    "    print(f\"Square of {number}: {number*number}\")\n",
    "\n",
    "if __name__ == \"__main__\":\n",
    "    processes = []\n",
    "\n",
    "    # Create 4 processes\n",
    "    for i in range(1, 5):\n",
    "        process = multiprocessing.Process(target=print_number, args=(i,))\n",
    "        processes.append(process)\n",
    "\n",
    "    # Start the processes\n",
    "    for process in processes:\n",
    "        process.start()\n",
    "\n",
    "    # Wait for all processes to finish\n",
    "    for process in processes:\n",
    "        process.join()\n",
    "\n",
    "    print(\"All processes have finished.\")\n"
   ]
  },
  {
   "cell_type": "code",
   "execution_count": null,
   "id": "f3ab54e8-b707-4820-a737-d96554fea999",
   "metadata": {},
   "outputs": [],
   "source": [
    "## the End"
   ]
  }
 ],
 "metadata": {
  "kernelspec": {
   "display_name": "Python 3 (ipykernel)",
   "language": "python",
   "name": "python3"
  },
  "language_info": {
   "codemirror_mode": {
    "name": "ipython",
    "version": 3
   },
   "file_extension": ".py",
   "mimetype": "text/x-python",
   "name": "python",
   "nbconvert_exporter": "python",
   "pygments_lexer": "ipython3",
   "version": "3.10.8"
  }
 },
 "nbformat": 4,
 "nbformat_minor": 5
}
